{
  "nbformat": 4,
  "nbformat_minor": 0,
  "metadata": {
    "colab": {
      "private_outputs": true,
      "provenance": [],
      "toc_visible": true,
      "mount_file_id": "1UQFxo6QWEkRgD_Vgw25iZN9s-6FAwJJX",
      "authorship_tag": "ABX9TyNP6TNNwqiywxR96zVO3zne",
      "include_colab_link": true
    },
    "kernelspec": {
      "name": "python3",
      "display_name": "Python 3"
    },
    "language_info": {
      "name": "python"
    }
  },
  "cells": [
    {
      "cell_type": "markdown",
      "metadata": {
        "id": "view-in-github",
        "colab_type": "text"
      },
      "source": [
        "<a href=\"https://colab.research.google.com/github/cmatheusIA/Ds_estudos/blob/master/e_commerce_projects.ipynb\" target=\"_parent\"><img src=\"https://colab.research.google.com/assets/colab-badge.svg\" alt=\"Open In Colab\"/></a>"
      ]
    },
    {
      "cell_type": "markdown",
      "source": [
        "# Contexto:\n",
        "Fomos contratados por uma rede de loja virtuais para investigar sua base de dados retirar insight e resolver o maximo de problemas possiveis, com isso vamos utilizar uma base de dados de kaggle [ecommerce-data](https://www.kaggle.com/datasets/carrie1/ecommerce-data), a qual iremos trabalhar nela."
      ],
      "metadata": {
        "id": "NlazWOjieXvf"
      }
    },
    {
      "cell_type": "markdown",
      "source": [
        "# Dicionario de dados :\n",
        "\n",
        "\n",
        "\n",
        "*   InvoiceNo -> Numero da venda\n",
        "*   StockCode -> codigo do produto\n",
        "*   Description -> Descrição do produto\n",
        "*   Quantity -> Quantidade do produto\n",
        "*   InvoiceDate -> Data da venda\n",
        "*   UnitPrice -> Preço por unidade.\n",
        "*   CustomerID -> ID do consumidor\n",
        "*   Country -> Pais da compra\n",
        "\n"
      ],
      "metadata": {
        "id": "rBqd7Ax-e6Yn"
      }
    },
    {
      "cell_type": "markdown",
      "source": [
        "# imports e paths"
      ],
      "metadata": {
        "id": "aSgv7SxYeU5N"
      }
    },
    {
      "cell_type": "code",
      "execution_count": null,
      "metadata": {
        "id": "2FRrkit_d_WR"
      },
      "outputs": [],
      "source": [
        "import pandas as pd\n",
        "import numpy as np\n",
        "import seaborn as  sns\n",
        "import plotly.express as px\n",
        "import matplotlib.pyplot as plt\n",
        "from math import sqrt\n",
        "import plotly.graph_objects as go\n",
        "import datetime as dt\n",
        "import plotly.colors as plc"
      ]
    },
    {
      "cell_type": "code",
      "source": [
        "###### configurations for image quality#######\n",
        "plt.rcParams[\"figure.figsize\"] = [16, 10]   ##\n",
        "#plt.rcParams['figure.dpi'] = 100          ## \n",
        "plt.rc('font', size=10)                    ## \n",
        "plt.rc('axes', titlesize=14)               ## \n",
        "plt.rc('axes', labelsize=14)               ##\n",
        "plt.rc('xtick', labelsize=10)              ##\n",
        "plt.rc('ytick', labelsize=10)              ##\n",
        "plt.rc('legend', fontsize=10)              ##\n",
        "plt.rc('figure', titlesize=12)             ## \n",
        "#############################################"
      ],
      "metadata": {
        "id": "jyLz87R3g_hp"
      },
      "execution_count": null,
      "outputs": []
    },
    {
      "cell_type": "code",
      "source": [
        "path = \"/content/drive/MyDrive/stack_teste/data.csv\""
      ],
      "metadata": {
        "id": "C0nYnV9SglDJ"
      },
      "execution_count": null,
      "outputs": []
    },
    {
      "cell_type": "markdown",
      "source": [
        "\n",
        "\n",
        "---\n",
        "\n",
        "# Análises\n",
        "\n",
        "---\n",
        "\n"
      ],
      "metadata": {
        "id": "O5oTB12yhp2k"
      }
    },
    {
      "cell_type": "code",
      "source": [
        "data = pd.read_csv(path,encoding= 'unicode_escape')"
      ],
      "metadata": {
        "id": "D8Aod5eqh1Jv"
      },
      "execution_count": null,
      "outputs": []
    },
    {
      "cell_type": "code",
      "source": [
        "display(data.head())"
      ],
      "metadata": {
        "id": "rSeXnXlxh-Ax"
      },
      "execution_count": null,
      "outputs": []
    },
    {
      "cell_type": "code",
      "source": [],
      "metadata": {
        "id": "6ci1uTnLQoVB"
      },
      "execution_count": null,
      "outputs": []
    },
    {
      "cell_type": "markdown",
      "source": [
        "## Conhecendo o dataset\n",
        "\n",
        "---\n",
        "\n",
        "\n",
        "\n",
        "---\n",
        "\n"
      ],
      "metadata": {
        "id": "OUDnXwZxhs-R"
      }
    },
    {
      "cell_type": "markdown",
      "source": [
        "1. Qual o tamanho dos nossos dados?"
      ],
      "metadata": {
        "id": "_cIXoGFDiLk9"
      }
    },
    {
      "cell_type": "code",
      "source": [
        "print(\"O dataset possui linhas-> {}, colunas-> {}\".format(data.shape[0],data.shape[1]))"
      ],
      "metadata": {
        "id": "WB2l7NAuhoyD"
      },
      "execution_count": null,
      "outputs": []
    },
    {
      "cell_type": "markdown",
      "source": [
        "2. Existem dados nulos?"
      ],
      "metadata": {
        "id": "l6kLQj41iosi"
      }
    },
    {
      "cell_type": "code",
      "source": [
        "nulos_percent = data.isnull().sum() / data.shape[0] * 100\n",
        "nulos_percent\n",
        "print(\"Dados nulos :\")\n",
        "display(nulos_percent)"
      ],
      "metadata": {
        "id": "i23vU_-QilG3"
      },
      "execution_count": null,
      "outputs": []
    },
    {
      "cell_type": "markdown",
      "source": [
        "Aqui vemos uma alta porcentagem de dados nulos na Coluna CustomerID algo em torno de 25% e uma pequena quantidade na coluna de Description."
      ],
      "metadata": {
        "id": "zKSWO529k8Ao"
      }
    },
    {
      "cell_type": "code",
      "source": [
        "data[\"InvoiceDate\"]=pd.to_datetime(data.InvoiceDate, cache=True)"
      ],
      "metadata": {
        "id": "U8TkqK5efmi1"
      },
      "execution_count": null,
      "outputs": []
    },
    {
      "cell_type": "code",
      "source": [
        "data[\"TotalPrice\"] = data.Quantity * data.UnitPrice"
      ],
      "metadata": {
        "id": "jb-cljbpROum"
      },
      "execution_count": null,
      "outputs": []
    },
    {
      "cell_type": "markdown",
      "source": [
        "### Investigando os dados nulos do nosso dataset\n",
        "\n",
        "---\n",
        "\n",
        "\n",
        "\n",
        "---\n",
        "\n"
      ],
      "metadata": {
        "id": "IhLWFhqNlORD"
      }
    },
    {
      "cell_type": "markdown",
      "source": [
        "#### CustomerID"
      ],
      "metadata": {
        "id": "S-f3TZNTlZ7v"
      }
    },
    {
      "cell_type": "code",
      "source": [
        "missing_data  = data[data.CustomerID.isnull()]\n",
        "display(missing_data)"
      ],
      "metadata": {
        "id": "dXCn2kvMizwT"
      },
      "execution_count": null,
      "outputs": []
    },
    {
      "cell_type": "code",
      "source": [
        "missing_data.StockCode.value_counts()[:10]"
      ],
      "metadata": {
        "id": "T8_3TNG1l5d6"
      },
      "execution_count": null,
      "outputs": []
    },
    {
      "cell_type": "code",
      "source": [
        "missing_data_per_StockCode = pd.DataFrame(missing_data.StockCode.value_counts()).reset_index().rename(columns={\n",
        "    \"index\":\"codigo_produto\",\n",
        "    \"StockCode\": \"missing_CustomerID\"\n",
        "})"
      ],
      "metadata": {
        "id": "Of5jhyVemLFR"
      },
      "execution_count": null,
      "outputs": []
    },
    {
      "cell_type": "code",
      "source": [
        "fig = px.bar(missing_data_per_StockCode[:10], x=\"codigo_produto\", y=\"missing_CustomerID\",\n",
        "             title='10 maiores indices de CustomerID missing por codigo do produto')\n",
        "fig.show()"
      ],
      "metadata": {
        "id": "2c8Tut5Rl5Xt"
      },
      "execution_count": null,
      "outputs": []
    },
    {
      "cell_type": "markdown",
      "source": [
        "DOT é visto como o maior produto que possui numero de cliente nulos, na descrição é apresentado o o termo DOTCOMPOSTAGE que aparenta ser uma sigla com : <br/>\n",
        "      **DOTCOM**  é um termo que se refere geralmente a empresas ou sites da internet que fazem parte da era da \"bolha da internet\" do final dos anos 90 e início dos anos 2000. A \"era dotcom\" foi caracterizada pelo surgimento de muitas empresas de tecnologia da informação que ofereciam serviços ou produtos on-line, como lojas virtuais, provedores de acesso à internet e portais de notícias.\n",
        "\n",
        "**POSTAGE** é um termo que se refere à taxa ou custo envolvido na entrega de correio ou envio de objetos pelo correio. Isso pode incluir custos de envio de cartas, pacotes, remessas expressas, etc. Dependendo do país ou região, os valores de postage podem variar, levando em consideração o peso, tamanho e destino dos objetos que serão enviados. Algumas empresas oferecem serviços de envio com preços mais baixos, enquanto outras cobram taxas mais elevadas por entregas expressas ou internacionais. A idéia de postage é cobrar o suficiente para cobrir os custos de transporte e manuseio dos objetos enviados."
      ],
      "metadata": {
        "id": "gukNhf-6nhFH"
      }
    },
    {
      "cell_type": "code",
      "source": [
        "missing_data[missing_data[\"StockCode\"]=='85099B'].head(1)"
      ],
      "metadata": {
        "id": "CvgBWrvml5Ue"
      },
      "execution_count": null,
      "outputs": []
    },
    {
      "cell_type": "markdown",
      "source": [
        "O segundo produto com maior indice de dados nulos na coluna numero de clientes\n",
        "![jumbo-storage-bag-red-retrospot-design (Personalizado) (Personalizado) (1).jpg](data:image/jpeg;base64,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)"
      ],
      "metadata": {
        "id": "C5raDR_Ro4OP"
      }
    },
    {
      "cell_type": "code",
      "source": [
        "missing_data[missing_data[\"StockCode\"]=='21931'].head(1)"
      ],
      "metadata": {
        "id": "qewO9__Ul5Qv"
      },
      "execution_count": null,
      "outputs": []
    },
    {
      "cell_type": "code",
      "source": [],
      "metadata": {
        "id": "7H_pfMvtloZc"
      },
      "execution_count": null,
      "outputs": []
    },
    {
      "cell_type": "markdown",
      "source": [
        "#### Dados nulos description x customerid"
      ],
      "metadata": {
        "id": "7qJ3KOLMXFpi"
      }
    },
    {
      "cell_type": "code",
      "source": [
        "description_null = data[data.Description.isnull()]"
      ],
      "metadata": {
        "id": "SwfAVNpRXFgN"
      },
      "execution_count": null,
      "outputs": []
    },
    {
      "cell_type": "code",
      "source": [
        "description_null"
      ],
      "metadata": {
        "id": "SqULnqduXjB-"
      },
      "execution_count": null,
      "outputs": []
    },
    {
      "cell_type": "code",
      "source": [
        "missing_data[missing_data.Description.isnull()].StockCode  == description_null.StockCode"
      ],
      "metadata": {
        "id": "vdGHP8doXoEd"
      },
      "execution_count": null,
      "outputs": []
    },
    {
      "cell_type": "code",
      "source": [],
      "metadata": {
        "id": "aW18g_n-Xn2j"
      },
      "execution_count": null,
      "outputs": []
    },
    {
      "cell_type": "markdown",
      "source": [
        "Logo podemos perceber que os dados com descrição nula está contido nos dados com CustomerID nulo, assim que os 2 casos fazem parte da mesma problematica, que seria algum erro de digitação, podemos investigar se as vendas foram canceladas."
      ],
      "metadata": {
        "id": "eli5IiEqYdvQ"
      }
    },
    {
      "cell_type": "code",
      "source": [
        "missing_data['cancelados'] = missing_data.InvoiceNo.apply(lambda x: \"C\" in str(x))"
      ],
      "metadata": {
        "id": "oi_Nx7EeZUZp"
      },
      "execution_count": null,
      "outputs": []
    },
    {
      "cell_type": "code",
      "source": [
        "missing_data"
      ],
      "metadata": {
        "id": "g_spScqKaBrK"
      },
      "execution_count": null,
      "outputs": []
    },
    {
      "cell_type": "code",
      "source": [
        "missing_data[missing_data[\"cancelados\"]==True].isnull().sum()/missing_data.shape[0]"
      ],
      "metadata": {
        "id": "EQgBvX3jaBoD"
      },
      "execution_count": null,
      "outputs": []
    },
    {
      "cell_type": "markdown",
      "source": [
        "Assim podemos descartar a ideia de que as dados nulos estavam ligados diretamente as vendas canceladas. O que podemos dizer que a razão desses dados estarem nulos pode ser provavelmente error de digitação ou error na leitura do banco de dados."
      ],
      "metadata": {
        "id": "DTKN3JlpafZq"
      }
    },
    {
      "cell_type": "code",
      "source": [],
      "metadata": {
        "id": "N1HrLj8QaBkP"
      },
      "execution_count": null,
      "outputs": []
    },
    {
      "cell_type": "code",
      "source": [],
      "metadata": {
        "id": "msov2dv8aBdG"
      },
      "execution_count": null,
      "outputs": []
    },
    {
      "cell_type": "markdown",
      "source": [
        "### Verificando vendas\n",
        "\n",
        "---\n",
        "\n",
        "\n",
        "\n",
        "---\n",
        "\n"
      ],
      "metadata": {
        "id": "kGMrMO7PUNip"
      }
    },
    {
      "cell_type": "markdown",
      "source": [
        "#### canceladas"
      ],
      "metadata": {
        "id": "C9FyxrvPb3SH"
      }
    },
    {
      "cell_type": "code",
      "source": [],
      "metadata": {
        "id": "rQbgQN2rb4Lp"
      },
      "execution_count": null,
      "outputs": []
    },
    {
      "cell_type": "markdown",
      "source": [
        "A coluna invoiceno representa o numero da venda  caso uma venda seja cancelada a mesma teria que receber uma letra C no seu numero"
      ],
      "metadata": {
        "id": "cY4fHdPbUSJH"
      }
    },
    {
      "cell_type": "code",
      "source": [
        "df = data.copy()\n",
        "df['cancelados'] = df.InvoiceNo.apply(lambda x: \"C\" in str(x))\n",
        "vendas_canceladas = df[df['cancelados'] == True]\n",
        "vendas_canceladas.head()"
      ],
      "metadata": {
        "id": "Nwdx4nfxURf2"
      },
      "execution_count": null,
      "outputs": []
    },
    {
      "cell_type": "code",
      "source": [
        "vendas_canceladas[\"TotalPrice\"] = vendas_canceladas.Quantity * vendas_canceladas.UnitPrice"
      ],
      "metadata": {
        "id": "g7HAQd1divv2"
      },
      "execution_count": null,
      "outputs": []
    },
    {
      "cell_type": "code",
      "source": [
        "print(\"Quantidade de vendas canceladas gira em torno de {}\".format(vendas_canceladas.shape[0]))"
      ],
      "metadata": {
        "id": "71Rh7qz7UnHy"
      },
      "execution_count": null,
      "outputs": []
    },
    {
      "cell_type": "code",
      "source": [
        "print(\"Preço medio das vendas canceladas {}\".format(round(vendas_canceladas.TotalPrice.mean()*-1,3)))"
      ],
      "metadata": {
        "id": "PDholGZjipio"
      },
      "execution_count": null,
      "outputs": []
    },
    {
      "cell_type": "code",
      "source": [
        "vendas_canceladas_stock_code = pd.DataFrame(vendas_canceladas.StockCode.value_counts()).reset_index().rename(columns={\n",
        "    \"index\":\"codigo_produto\",\n",
        "    \"StockCode\": \"produtos cancelados\"\n",
        "})"
      ],
      "metadata": {
        "id": "ojhjHLjUUtn8"
      },
      "execution_count": null,
      "outputs": []
    },
    {
      "cell_type": "code",
      "source": [
        "fig = px.bar(vendas_canceladas_stock_code[:10], x=\"produtos cancelados\", y=\"codigo_produto\",\n",
        "             title='Quantidade de produtos cancelados.')\n",
        "fig.show()"
      ],
      "metadata": {
        "id": "DQkAfkqoU557"
      },
      "execution_count": null,
      "outputs": []
    },
    {
      "cell_type": "code",
      "source": [
        "contagem_cancelamentos_pais = pd.DataFrame(vendas_canceladas.Country.value_counts()).reset_index().rename(columns={\n",
        "    \"index\":\"paises\",\n",
        "    \"Country\": \"cancelamentos\"\n",
        "})"
      ],
      "metadata": {
        "id": "7480Sp6hVC-r"
      },
      "execution_count": null,
      "outputs": []
    },
    {
      "cell_type": "code",
      "source": [
        "fig = px.bar(contagem_cancelamentos_pais[:10], x=\"cancelamentos\", y=\"paises\", orientation='h',\n",
        "             title='Paises com maiores indices de cancelamentos de vendas')\n",
        "fig.show()"
      ],
      "metadata": {
        "id": "Xn5JQLBpbXhu"
      },
      "execution_count": null,
      "outputs": []
    },
    {
      "cell_type": "code",
      "source": [],
      "metadata": {
        "id": "_o6YNaPycBzC"
      },
      "execution_count": null,
      "outputs": []
    },
    {
      "cell_type": "code",
      "source": [
        "vendas_canceladas.Quantity.plot(kind=\"kde\")"
      ],
      "metadata": {
        "id": "v4zgOx1ScBwK"
      },
      "execution_count": null,
      "outputs": []
    },
    {
      "cell_type": "code",
      "source": [
        "vendas_canceladas.Quantity.plot()"
      ],
      "metadata": {
        "id": "RbEjtwa8cLs4"
      },
      "execution_count": null,
      "outputs": []
    },
    {
      "cell_type": "markdown",
      "source": [
        "###### Trabalhando com datas\n"
      ],
      "metadata": {
        "id": "HIdSEgdTP5vx"
      }
    },
    {
      "cell_type": "code",
      "source": [
        "vendas_canceladas[\"data\"]= vendas_canceladas.InvoiceDate.dt.date\n",
        "vendas_canceladas[\"dia\"]= vendas_canceladas.InvoiceDate.dt.day\n",
        "vendas_canceladas[\"mes\"]= vendas_canceladas.InvoiceDate.dt.month\n",
        "vendas_canceladas[\"ano\"]= vendas_canceladas.InvoiceDate.dt.year\n",
        "vendas_canceladas[\"hora\"]=vendas_canceladas.InvoiceDate.dt.hour"
      ],
      "metadata": {
        "id": "fN42yZedcBtE"
      },
      "execution_count": null,
      "outputs": []
    },
    {
      "cell_type": "markdown",
      "source": [
        "**Plot vendas canceladas por data, hora**"
      ],
      "metadata": {
        "id": "vS3zH5OyQPch"
      }
    },
    {
      "cell_type": "code",
      "source": [
        "num_transacoes_por_hora = vendas_canceladas.groupby('hora')['InvoiceNo'].nunique()\n",
        "num_ganhos_por_hora = vendas_canceladas.groupby('hora')['TotalPrice'].sum()"
      ],
      "metadata": {
        "id": "fNEk4X2PQFrk"
      },
      "execution_count": null,
      "outputs": []
    },
    {
      "cell_type": "code",
      "source": [
        "fig, (ax1, ax2) = plt.subplots(1, 2)\n",
        "sns.barplot(x=num_transacoes_por_hora.index, y=num_transacoes_por_hora.values, ax=ax1)\n",
        "sns.lineplot(x=num_ganhos_por_hora.index, y=num_ganhos_por_hora.values, ax=ax2)\n",
        "ax2.set_title(\"Ganhos perdidos por hora\")\n",
        "ax1.set_title(\"Vendas canceladas por hora\")\n",
        "plt.show()"
      ],
      "metadata": {
        "id": "hkkXy9YSQFok"
      },
      "execution_count": null,
      "outputs": []
    },
    {
      "cell_type": "code",
      "source": [],
      "metadata": {
        "id": "iudt0I-RSHT4"
      },
      "execution_count": null,
      "outputs": []
    },
    {
      "cell_type": "code",
      "source": [
        "num_transacoes_por_dia = vendas_canceladas.groupby('dia')['InvoiceNo'].nunique()\n",
        "num_ganhos_por_dia = vendas_canceladas.groupby('dia')['TotalPrice'].sum()\n",
        "\n",
        "fig, (ax1, ax2) = plt.subplots(1, 2)\n",
        "sns.barplot(x=num_transacoes_por_dia.index, y=num_transacoes_por_dia.values, ax=ax1)\n",
        "sns.lineplot(x=num_ganhos_por_dia.index, y=num_ganhos_por_dia.values, ax=ax2)\n",
        "ax2.set_title(\"Ganhos perdidos por dia\")\n",
        "ax1.set_title(\"Vendas canceladas por dia\")\n",
        "plt.show()"
      ],
      "metadata": {
        "id": "mcE22BepQFl1"
      },
      "execution_count": null,
      "outputs": []
    },
    {
      "cell_type": "code",
      "source": [
        "num_transacoes_por_mes = vendas_canceladas.groupby('mes')['InvoiceNo'].nunique()\n",
        "num_ganhos_por_mes = vendas_canceladas.groupby('mes')['TotalPrice'].sum()\n",
        "\n",
        "fig, (ax1, ax2) = plt.subplots(1, 2)\n",
        "sns.barplot(x=num_transacoes_por_mes.index, y=num_transacoes_por_mes.values, ax=ax1)\n",
        "sns.lineplot(x=num_ganhos_por_mes.index, y=num_ganhos_por_mes.values, ax=ax2)\n",
        "ax2.set_title(\"Ganhos perdidos por mes\")\n",
        "ax1.set_title(\"Vendas canceladas por mes\")\n",
        "plt.show()"
      ],
      "metadata": {
        "id": "06w8VN81QFis"
      },
      "execution_count": null,
      "outputs": []
    },
    {
      "cell_type": "code",
      "source": [
        "num_transacoes_por_ano = vendas_canceladas.groupby('ano')['InvoiceNo'].nunique()\n",
        "num_ganhos_por_ano = vendas_canceladas.groupby('ano')['TotalPrice'].sum()\n",
        "\n",
        "fig, (ax1, ax2) = plt.subplots(1, 2)\n",
        "sns.barplot(x=num_transacoes_por_ano.index, y=num_transacoes_por_ano.values, ax=ax1)\n",
        "sns.lineplot(x=num_ganhos_por_ano.index, y=num_ganhos_por_ano.values, ax=ax2)\n",
        "ax2.set_title(\"Ganhos perdidos por ano\")\n",
        "ax1.set_title(\"Vendas canceladas por ano\")\n",
        "plt.show()"
      ],
      "metadata": {
        "id": "qZo4Dmz4QFf1"
      },
      "execution_count": null,
      "outputs": []
    },
    {
      "cell_type": "code",
      "source": [],
      "metadata": {
        "id": "6CtAjsEUQFct"
      },
      "execution_count": null,
      "outputs": []
    },
    {
      "cell_type": "markdown",
      "source": [
        "Assim os gráficos mostram que durante o dia o período que mais possue cancelamentos é das 10 horas as 16 horas, durante o mes não tem um periodo bem especificado como das horas , mas os dias 6,9,14,18 apresentam altos indices de cancelamentos, já com relação ao meses os maiores numeros de cancelamentos são oriundos dos meses 10, 11, 12, e no perido anual em 2011 tivemos mais cancelamentos uma diferença de 3000 comparada com 2010."
      ],
      "metadata": {
        "id": "yS0SZQwaS677"
      }
    },
    {
      "cell_type": "code",
      "source": [],
      "metadata": {
        "id": "77YZFHrfQFZl"
      },
      "execution_count": null,
      "outputs": []
    },
    {
      "cell_type": "markdown",
      "source": [
        "Assim podemos notar que as vendas canceladas possuem sua quantidade negativada, ou seja, todos os dados da coluna Quantity estão abaixo de 0 ou são iguais a 0"
      ],
      "metadata": {
        "id": "Nl8yoRXRb_dB"
      }
    },
    {
      "cell_type": "code",
      "source": [],
      "metadata": {
        "id": "AYpQHVldXBUS"
      },
      "execution_count": null,
      "outputs": []
    },
    {
      "cell_type": "code",
      "source": [],
      "metadata": {
        "id": "QuHny16tXBMm"
      },
      "execution_count": null,
      "outputs": []
    },
    {
      "cell_type": "markdown",
      "source": [
        "#### Não canceladas"
      ],
      "metadata": {
        "id": "DqLjeVJVb6Rm"
      }
    },
    {
      "cell_type": "code",
      "source": [
        "# primeiro passo para selecionar as vendas não canceladas seria o de retirar os dados que estão com a quantitidade negativada\n",
        "\n",
        "data_prep1 = data[data.Quantity>0]"
      ],
      "metadata": {
        "id": "oEQiHBCbbXdR"
      },
      "execution_count": null,
      "outputs": []
    },
    {
      "cell_type": "code",
      "source": [
        "display(data_prep1)"
      ],
      "metadata": {
        "id": "KSCp-9bzbXZH"
      },
      "execution_count": null,
      "outputs": []
    },
    {
      "cell_type": "markdown",
      "source": [
        "Com os dados sem cancelamentos podemos identificar algumas informações : \n",
        "\n",
        "*   Paises com os maiores indices de vendas\n",
        "*   Criação da coluna Total_price\n",
        "\n"
      ],
      "metadata": {
        "id": "J9SC3l_1c8QN"
      }
    },
    {
      "cell_type": "markdown",
      "source": [
        "Paises com os maiores indices de vendas\n"
      ],
      "metadata": {
        "id": "R-LA9qsMdbLW"
      }
    },
    {
      "cell_type": "code",
      "source": [
        "paises = data_prep1['Country'].value_counts(normalize=True)\n",
        "paises[:5]"
      ],
      "metadata": {
        "id": "vc4MLQURdbA8"
      },
      "execution_count": null,
      "outputs": []
    },
    {
      "cell_type": "code",
      "source": [
        "vendas_por_paises= pd.DataFrame(paises.head(15)).reset_index().rename(columns={\n",
        "    \"index\":\"paises\",\n",
        "    \"Country\": \"numero_de_vendas\"\n",
        "})"
      ],
      "metadata": {
        "id": "a54rj6Veda-R"
      },
      "execution_count": null,
      "outputs": []
    },
    {
      "cell_type": "code",
      "source": [
        "fig = px.bar(vendas_por_paises, x=\"numero_de_vendas\", y=\"paises\", orientation='h',\n",
        "             title='Os 15 paises com maiores indices de vendas')\n",
        "fig.show()"
      ],
      "metadata": {
        "id": "urwqNQOmda0D"
      },
      "execution_count": null,
      "outputs": []
    },
    {
      "cell_type": "markdown",
      "source": [
        "Logo podemos ver que UK é o pais onde os números de vendas são desparados, ficando proporcional o número de cancelamentos do pais."
      ],
      "metadata": {
        "id": "p2_s9Qa7d_eT"
      }
    },
    {
      "cell_type": "code",
      "source": [
        "data_prep1.isnull().sum()"
      ],
      "metadata": {
        "id": "3L0IqMhgiZZK"
      },
      "execution_count": null,
      "outputs": []
    },
    {
      "cell_type": "code",
      "source": [
        "data_prep1.dropna(inplace=True)"
      ],
      "metadata": {
        "id": "Qi1BXkK5igje"
      },
      "execution_count": null,
      "outputs": []
    },
    {
      "cell_type": "code",
      "source": [
        "data_prep1[\"TotalPrice\"] = data_prep1[\"Quantity\"] * data_prep1[\"UnitPrice\"]"
      ],
      "metadata": {
        "id": "2fdNAHdJi2cy"
      },
      "execution_count": null,
      "outputs": []
    },
    {
      "cell_type": "code",
      "source": [
        "mean_price_by_country = data_prep1.groupby('Country')['TotalPrice'].mean()\n",
        "mean_quantity_by_country = data_prep1.groupby('Country')['Quantity'].mean()\n",
        "\n",
        "\n",
        "sns.lineplot(x=mean_price_by_country.index, y=mean_price_by_country.values, label='Transaction Value')\n",
        "sns.lineplot(x=mean_quantity_by_country.index, y=mean_quantity_by_country.values, label='Transaction Quantity')\n",
        "plt.title(\"Media valores e quantidade por transação\")\n",
        "plt.xlabel('Pais')\n",
        "plt.ylabel('Media de valores e quantidade')\n",
        "plt.show()"
      ],
      "metadata": {
        "id": "vTadaV3LbXVT"
      },
      "execution_count": null,
      "outputs": []
    },
    {
      "cell_type": "code",
      "source": [
        "sns.barplot(x=mean_price_by_country.values, y=mean_price_by_country.index, label='Price',orient=\"h\")\n",
        "plt.title(\"Media valores por transação\")\n",
        "plt.xlabel('Pais')\n",
        "plt.ylabel('Media de valores')\n",
        "plt.show()"
      ],
      "metadata": {
        "id": "oGVZbtErf5bb"
      },
      "execution_count": null,
      "outputs": []
    },
    {
      "cell_type": "code",
      "source": [
        "sns.barplot(x=mean_quantity_by_country.values, y=mean_quantity_by_country.index, label='Quantity',orient=\"h\")\n",
        "plt.title(\"Media quantidade por transação\")\n",
        "plt.xlabel('Pais')\n",
        "plt.ylabel('Media de quantidade')\n",
        "plt.show()"
      ],
      "metadata": {
        "id": "Y7UGYvnhf5Yn"
      },
      "execution_count": null,
      "outputs": []
    },
    {
      "cell_type": "code",
      "source": [
        "product_sales_by_country = data_prep1.groupby(['Description', 'Country'])['TotalPrice'].sum()\n",
        "print(product_sales_by_country.sort_values(ascending=False).head(10))"
      ],
      "metadata": {
        "id": "HDKml757f5WC"
      },
      "execution_count": null,
      "outputs": []
    },
    {
      "cell_type": "code",
      "source": [
        "preco_por_produto= pd.DataFrame(product_sales_by_country.sort_values(ascending=False).head(20)).reset_index().rename(columns={\n",
        "    \"Description\":\"Description\",\n",
        "    \"Country\": \"Country\"\n",
        "})"
      ],
      "metadata": {
        "id": "QZ3Gu8m7f5S6"
      },
      "execution_count": null,
      "outputs": []
    },
    {
      "cell_type": "code",
      "source": [
        "preco_por_produto"
      ],
      "metadata": {
        "id": "8UTeN90OC7FD"
      },
      "execution_count": null,
      "outputs": []
    },
    {
      "cell_type": "code",
      "source": [
        "fig = px.bar(preco_por_produto, x=\"TotalPrice\", y=\"Description\", orientation='h',color=\"Description\",\n",
        "             title='Os 15 produtos mais vendidos')\n",
        "fig.show()"
      ],
      "metadata": {
        "id": "C6icw1zff5P9"
      },
      "execution_count": null,
      "outputs": []
    },
    {
      "cell_type": "code",
      "source": [],
      "metadata": {
        "id": "b_yrz_A9f5NI"
      },
      "execution_count": null,
      "outputs": []
    },
    {
      "cell_type": "code",
      "source": [],
      "metadata": {
        "id": "FApfWTn2f5KC"
      },
      "execution_count": null,
      "outputs": []
    },
    {
      "cell_type": "code",
      "source": [],
      "metadata": {
        "id": "i7-Zbi37f5HD"
      },
      "execution_count": null,
      "outputs": []
    },
    {
      "cell_type": "code",
      "source": [],
      "metadata": {
        "id": "nYd7aYddf5Db"
      },
      "execution_count": null,
      "outputs": []
    },
    {
      "cell_type": "markdown",
      "source": [
        "#### Cohort\n",
        "\n",
        "\n",
        "---\n",
        "\n",
        "\n",
        "Cohort é um termo que pode ser utilizado em diversas áreas, mas em geral se refere a um grupo de indivíduos que compartilham uma ou mais características em comum e são observados ao longo do tempo.\n",
        "\n",
        "Na área de estudos de mercado e análise de dados, cohort é frequentemente utilizado para se referir a um grupo de usuários ou clientes que compartilham uma característica ou comportamento em comum, como a data de registro em um serviço, o produto que compraram ou o canal de aquisição. A análise de cohorts permite identificar tendências ao longo do tempo, como a retenção de clientes ou a eficácia de campanhas de marketing."
      ],
      "metadata": {
        "id": "cIInCkYsdnX2"
      }
    },
    {
      "cell_type": "code",
      "source": [
        "data.info()"
      ],
      "metadata": {
        "id": "VgTqffBbdr0n"
      },
      "execution_count": null,
      "outputs": []
    },
    {
      "cell_type": "code",
      "source": [
        "def get_Month(x):\n",
        "    return dt.datetime(x.year,x.month,1)"
      ],
      "metadata": {
        "id": "d5EXk1voe542"
      },
      "execution_count": null,
      "outputs": []
    },
    {
      "cell_type": "code",
      "source": [
        "data.info()"
      ],
      "metadata": {
        "id": "Rvc78W33f3td"
      },
      "execution_count": null,
      "outputs": []
    },
    {
      "cell_type": "code",
      "source": [
        "data[\"invoiceMounth\"] = data[\"InvoiceDate\"].apply(get_Month)"
      ],
      "metadata": {
        "id": "dDjYsLMIdrxX"
      },
      "execution_count": null,
      "outputs": []
    },
    {
      "cell_type": "code",
      "source": [
        "data"
      ],
      "metadata": {
        "id": "ST4YhpvSdruP"
      },
      "execution_count": null,
      "outputs": []
    },
    {
      "cell_type": "code",
      "source": [
        "group = data.groupby(\"CustomerID\")[\"invoiceMounth\"]"
      ],
      "metadata": {
        "id": "S713TEE_drqw"
      },
      "execution_count": null,
      "outputs": []
    },
    {
      "cell_type": "code",
      "source": [
        "group.head()"
      ],
      "metadata": {
        "id": "8geVNdiNdrnc"
      },
      "execution_count": null,
      "outputs": []
    },
    {
      "cell_type": "code",
      "source": [
        "data[\"cohort_month\"] = group.transform(\"min\")"
      ],
      "metadata": {
        "id": "pXoe1RcDdrkV"
      },
      "execution_count": null,
      "outputs": []
    },
    {
      "cell_type": "code",
      "source": [
        "data.head()"
      ],
      "metadata": {
        "id": "48AZAM_zD6vp"
      },
      "execution_count": null,
      "outputs": []
    },
    {
      "cell_type": "code",
      "source": [
        "# função para extração de data\n",
        "def get_data_int(df,column):\n",
        "    year = df[column].dt.year\n",
        "    month = df[column].dt.month\n",
        "    day = df[column].dt.day\n",
        "\n",
        "    return year,month,day"
      ],
      "metadata": {
        "id": "3ARzIG7Idrg-"
      },
      "execution_count": null,
      "outputs": []
    },
    {
      "cell_type": "code",
      "source": [
        "invoice_year, invoice_month,_ = get_data_int(data,\"invoiceMounth\")\n",
        "cohort_year, cohort_month,_ = get_data_int(data,\"cohort_month\")"
      ],
      "metadata": {
        "id": "gA2aImkVDpQW"
      },
      "execution_count": null,
      "outputs": []
    },
    {
      "cell_type": "code",
      "source": [
        "years_diff = invoice_year - cohort_year\n",
        "months_diff = invoice_month - cohort_month\n",
        "\n",
        "\n",
        "data[\"cohort_index\"] = years_diff * 12 +months_diff+1"
      ],
      "metadata": {
        "id": "IBUtTBRrdrdp"
      },
      "execution_count": null,
      "outputs": []
    },
    {
      "cell_type": "code",
      "source": [
        "data.head()"
      ],
      "metadata": {
        "id": "eefDkK6-draA"
      },
      "execution_count": null,
      "outputs": []
    },
    {
      "cell_type": "code",
      "source": [
        "group_cohort = data.groupby([\"cohort_month\",\"cohort_index\"])"
      ],
      "metadata": {
        "id": "2vg815tIdrWd"
      },
      "execution_count": null,
      "outputs": []
    },
    {
      "cell_type": "code",
      "source": [
        "cohort_data = group_cohort[\"CustomerID\"].apply(pd.Series.nunique)"
      ],
      "metadata": {
        "id": "s-3VzWb-drTN"
      },
      "execution_count": null,
      "outputs": []
    },
    {
      "cell_type": "code",
      "source": [
        "cohort_data"
      ],
      "metadata": {
        "id": "27dUwNpxFbw3"
      },
      "execution_count": null,
      "outputs": []
    },
    {
      "cell_type": "code",
      "source": [
        "cohort_data = cohort_data.reset_index()"
      ],
      "metadata": {
        "id": "q4JajuSkFbup"
      },
      "execution_count": null,
      "outputs": []
    },
    {
      "cell_type": "code",
      "source": [
        "cohort_counts = cohort_data.pivot(index = \"cohort_month\",\n",
        "                                columns = \"cohort_index\",\n",
        "                                values = \"CustomerID\")"
      ],
      "metadata": {
        "id": "4FdDHSygFbsR"
      },
      "execution_count": null,
      "outputs": []
    },
    {
      "cell_type": "code",
      "source": [
        "cohort_counts"
      ],
      "metadata": {
        "id": "xGoQ3OWsFbp-"
      },
      "execution_count": null,
      "outputs": []
    },
    {
      "cell_type": "markdown",
      "source": [
        "calculando a taxa de retenção"
      ],
      "metadata": {
        "id": "SFr_ye4fG0eU"
      }
    },
    {
      "cell_type": "code",
      "source": [
        "# guardando a primeira linha\n",
        "cohort_size = cohort_counts.iloc[:,0]"
      ],
      "metadata": {
        "id": "p24A7sEKFbni"
      },
      "execution_count": null,
      "outputs": []
    },
    {
      "cell_type": "code",
      "source": [
        "#Divide todos os valores pelo cohort_size\n",
        "retencao = cohort_counts.divide(cohort_size,axis=0)"
      ],
      "metadata": {
        "id": "Et2taczkFbkW"
      },
      "execution_count": null,
      "outputs": []
    },
    {
      "cell_type": "code",
      "source": [
        "#Recria a tabela\n",
        "retencao.round(4)*100"
      ],
      "metadata": {
        "id": "YLsV77jWFbhe"
      },
      "execution_count": null,
      "outputs": []
    },
    {
      "cell_type": "code",
      "source": [],
      "metadata": {
        "id": "-MbEhVvqFbfH"
      },
      "execution_count": null,
      "outputs": []
    },
    {
      "cell_type": "markdown",
      "source": [
        "Heatmap com a nossa retenção"
      ],
      "metadata": {
        "id": "QuPFtsIpTqYI"
      }
    },
    {
      "cell_type": "code",
      "source": [
        "fig = px.imshow(retencao.round(2), text_auto=True, aspect=\"auto\")\n",
        "fig.update_layout(\n",
        "    plot_bgcolor='rgba(0, 0, 0, 0.8)',  # Configurando cor de fundo com transparência\n",
        "    paper_bgcolor='rgba(0, 0, 0, 0)',  # Configurando cor do papel para transparente\n",
        "    font=dict(color='white'),\n",
        "    title= \"Cohort retorno de clientes\"\n",
        ")\n",
        "fig.show()"
      ],
      "metadata": {
        "id": "e6cHez1QFbbd"
      },
      "execution_count": null,
      "outputs": []
    },
    {
      "cell_type": "markdown",
      "source": [
        "Cohort de media de vendas\n"
      ],
      "metadata": {
        "id": "QE5Z0hq5Spxj"
      }
    },
    {
      "cell_type": "code",
      "source": [
        "data.head(1)"
      ],
      "metadata": {
        "id": "flTWcQYETT7U"
      },
      "execution_count": null,
      "outputs": []
    },
    {
      "cell_type": "code",
      "source": [
        "cohort_data2 = data.groupby(['cohort_month', 'cohort_index'])['Quantity'].mean().reset_index()\n",
        "media_qtd  = cohort_data2.pivot_table(index = 'cohort_month',\n",
        "                                            columns = 'cohort_index',\n",
        "                                       values = 'Quantity').round(1)\n",
        "media_qtd"
      ],
      "metadata": {
        "id": "OaErZBeyTqBP"
      },
      "execution_count": null,
      "outputs": []
    },
    {
      "cell_type": "code",
      "source": [
        "fig = px.imshow(media_qtd.round(1), text_auto=True, aspect=\"auto\")\n",
        "fig.update_layout(\n",
        "    plot_bgcolor='ghostwhite',  \n",
        "    paper_bgcolor='ghostwhite', \n",
        "    title= \"Cohort da media da quantidade de produtos vendidos\"\n",
        ")\n",
        "fig.show()"
      ],
      "metadata": {
        "id": "C4UN8sI_TNgt"
      },
      "execution_count": null,
      "outputs": []
    },
    {
      "cell_type": "code",
      "source": [],
      "metadata": {
        "id": "uPV7uo-zTNb4"
      },
      "execution_count": null,
      "outputs": []
    },
    {
      "cell_type": "markdown",
      "source": [
        "Cohort de media de ganhos"
      ],
      "metadata": {
        "id": "dlFj0kkYYb_d"
      }
    },
    {
      "cell_type": "code",
      "source": [
        "cohort_data3 = data.groupby(['cohort_month', 'cohort_index'])['TotalPrice'].mean().reset_index()\n",
        "average_sales  = cohort_data3.pivot_table(index = 'cohort_month',\n",
        "                                           columns = 'cohort_index',\n",
        "                                      values = 'TotalPrice').round(1)\n",
        "average_sales"
      ],
      "metadata": {
        "id": "FdjoeQNNTNYw"
      },
      "execution_count": null,
      "outputs": []
    },
    {
      "cell_type": "code",
      "source": [
        "fig = px.imshow(average_sales.round(2), text_auto=True, aspect=\"auto\")\n",
        "fig.update_layout(\n",
        "    plot_bgcolor='rgba(0, 0, 0, 0.5)',  # Configurando cor de fundo com transparência\n",
        "    paper_bgcolor='rgba(0, 0, 0, 0)',  # Configurando cor do papel para transparente\n",
        "    font=dict(color='white'),\n",
        "    title= \"Cohort media de ganhos\"\n",
        ")\n",
        "fig.show()"
      ],
      "metadata": {
        "id": "J8YKWV7xTNVk"
      },
      "execution_count": null,
      "outputs": []
    },
    {
      "cell_type": "code",
      "source": [],
      "metadata": {
        "id": "NEtp9TTITp-O"
      },
      "execution_count": null,
      "outputs": []
    },
    {
      "cell_type": "code",
      "source": [],
      "metadata": {
        "id": "JZBiENK2Tp7Z"
      },
      "execution_count": null,
      "outputs": []
    },
    {
      "cell_type": "code",
      "source": [],
      "metadata": {
        "id": "SMKY3f2ATMyM"
      },
      "execution_count": null,
      "outputs": []
    },
    {
      "cell_type": "markdown",
      "source": [
        "### Análise das descrições\n",
        "\n",
        "---\n",
        "\n",
        "\n",
        "\n",
        "---\n",
        "\n",
        "\n",
        "\n",
        "---\n",
        "\n"
      ],
      "metadata": {
        "id": "viVnWCPSmYet"
      }
    },
    {
      "cell_type": "code",
      "source": [],
      "metadata": {
        "id": "YYe0psPMme5r"
      },
      "execution_count": null,
      "outputs": []
    },
    {
      "cell_type": "code",
      "source": [],
      "metadata": {
        "id": "t3UlRKyhmelu"
      },
      "execution_count": null,
      "outputs": []
    },
    {
      "cell_type": "code",
      "source": [],
      "metadata": {
        "id": "tPhbpi4umeiq"
      },
      "execution_count": null,
      "outputs": []
    },
    {
      "cell_type": "code",
      "source": [],
      "metadata": {
        "id": "zqbyfL8Imefq"
      },
      "execution_count": null,
      "outputs": []
    },
    {
      "cell_type": "code",
      "source": [],
      "metadata": {
        "id": "EgzSHnMvmecB"
      },
      "execution_count": null,
      "outputs": []
    },
    {
      "cell_type": "code",
      "source": [],
      "metadata": {
        "id": "8K9_jaHKmeYZ"
      },
      "execution_count": null,
      "outputs": []
    },
    {
      "cell_type": "code",
      "source": [],
      "metadata": {
        "id": "u-fbomg0meVC"
      },
      "execution_count": null,
      "outputs": []
    },
    {
      "cell_type": "code",
      "source": [],
      "metadata": {
        "id": "Vn7DT5s0meRZ"
      },
      "execution_count": null,
      "outputs": []
    },
    {
      "cell_type": "code",
      "source": [],
      "metadata": {
        "id": "BNFhu8fSmeNk"
      },
      "execution_count": null,
      "outputs": []
    },
    {
      "cell_type": "code",
      "source": [],
      "metadata": {
        "id": "iFKnPRwJmeKZ"
      },
      "execution_count": null,
      "outputs": []
    },
    {
      "cell_type": "markdown",
      "source": [
        "### Verificando colunas numericas\n",
        "\n",
        "---\n",
        "\n",
        "\n",
        "\n",
        "---\n",
        "\n"
      ],
      "metadata": {
        "id": "aOzTEapolhEn"
      }
    },
    {
      "cell_type": "code",
      "source": [
        "data_prep1.info()"
      ],
      "metadata": {
        "id": "aSmk7SBOlkJ-"
      },
      "execution_count": null,
      "outputs": []
    },
    {
      "cell_type": "code",
      "source": [
        "numeric_data = data_prep1[[\"TotalPrice\",\"CustomerID\",\"UnitPrice\",\"Quantity\"]]"
      ],
      "metadata": {
        "id": "otmx0x7NlkG7"
      },
      "execution_count": null,
      "outputs": []
    },
    {
      "cell_type": "code",
      "source": [
        "numeric_data.hist()\n",
        "plt.show()"
      ],
      "metadata": {
        "id": "sYA0-F6dlkBv"
      },
      "execution_count": null,
      "outputs": []
    },
    {
      "cell_type": "code",
      "source": [
        "numeric_data.plot(kind=\"box\");"
      ],
      "metadata": {
        "id": "KjPzPngelj-b"
      },
      "execution_count": null,
      "outputs": []
    },
    {
      "cell_type": "code",
      "source": [
        "numeric_data.describe()"
      ],
      "metadata": {
        "id": "eMv9SzyWnfB2"
      },
      "execution_count": null,
      "outputs": []
    },
    {
      "cell_type": "markdown",
      "source": [
        "Dados numero coo por exemplot CustomerID é apenas uma id para os consumidores"
      ],
      "metadata": {
        "id": "639aVyZhqiDW"
      }
    },
    {
      "cell_type": "code",
      "source": [],
      "metadata": {
        "id": "C86hy4aXoA36"
      },
      "execution_count": null,
      "outputs": []
    },
    {
      "cell_type": "markdown",
      "source": [
        "### Trabalhando com a coluna data\n",
        "\n",
        "---\n",
        "\n",
        "\n",
        "\n",
        "---\n",
        "\n",
        "\n",
        "\n",
        "\n",
        "\n"
      ],
      "metadata": {
        "id": "Oo9CHLty5P8s"
      }
    },
    {
      "cell_type": "code",
      "source": [
        "data_prep1[\"InvoiceDate\"] = pd.to_datetime(data_prep1.InvoiceDate, cache=True)"
      ],
      "metadata": {
        "id": "fXBhm3Ka5PiB"
      },
      "execution_count": null,
      "outputs": []
    },
    {
      "cell_type": "code",
      "source": [
        "print(\"Inicio : {}\".format(data_prep1.InvoiceDate.min()))\n",
        "print(\"Final : {}\".format(data_prep1.InvoiceDate.max()))\n",
        "print(\"Periodo : {}\".format(data_prep1.InvoiceDate.max() - data_prep1.InvoiceDate.min()))"
      ],
      "metadata": {
        "id": "DlfBAsM1oA1T"
      },
      "execution_count": null,
      "outputs": []
    },
    {
      "cell_type": "code",
      "source": [
        "data_prep1[\"data\"]= data_prep1.InvoiceDate.dt.date\n",
        "data_prep1[\"dia\"]= data_prep1.InvoiceDate.dt.day\n",
        "data_prep1[\"mes\"]= data_prep1.InvoiceDate.dt.month\n",
        "data_prep1[\"ano\"]= data_prep1.InvoiceDate.dt.year"
      ],
      "metadata": {
        "id": "ibcvVoRioAyf"
      },
      "execution_count": null,
      "outputs": []
    },
    {
      "cell_type": "code",
      "source": [
        "data_prep1.head()"
      ],
      "metadata": {
        "id": "ZG5zeGvzoAvZ"
      },
      "execution_count": null,
      "outputs": []
    },
    {
      "cell_type": "code",
      "source": [
        "produto_por_data = data_prep1.groupby([\"Description\",\"data\"])[\"TotalPrice\"].sum()"
      ],
      "metadata": {
        "id": "hKqgUu7BoAsB"
      },
      "execution_count": null,
      "outputs": []
    },
    {
      "cell_type": "code",
      "source": [
        "produto_por_data"
      ],
      "metadata": {
        "id": "anLgodM6lj6M"
      },
      "execution_count": null,
      "outputs": []
    },
    {
      "cell_type": "code",
      "source": [
        "top_products = produto_por_data.sort_values(ascending=False).head(10)\n",
        "print(top_products)"
      ],
      "metadata": {
        "id": "S9kUqfouopiA"
      },
      "execution_count": null,
      "outputs": []
    },
    {
      "cell_type": "code",
      "source": [
        "top_products.plot(kind='barh')\n",
        "plt.title(\"Top produtos vendidos por data\")\n",
        "plt.xlabel(\"Total Price\")\n",
        "plt.show()"
      ],
      "metadata": {
        "id": "lLykX2mmopdI"
      },
      "execution_count": null,
      "outputs": []
    },
    {
      "cell_type": "code",
      "source": [],
      "metadata": {
        "id": "ZqMjkD4lopZA"
      },
      "execution_count": null,
      "outputs": []
    },
    {
      "cell_type": "code",
      "source": [
        "df_clean_copy = data_prep1.copy()"
      ],
      "metadata": {
        "id": "DJapyzUrGJJ0"
      },
      "execution_count": null,
      "outputs": []
    },
    {
      "cell_type": "code",
      "source": [
        "df_clean_copy[\"hora\"]=data_prep1.InvoiceDate.dt.hour"
      ],
      "metadata": {
        "id": "SRydcJYWGJF4"
      },
      "execution_count": null,
      "outputs": []
    },
    {
      "cell_type": "code",
      "source": [
        "df_clean_copy"
      ],
      "metadata": {
        "id": "dbzJaG8_GQ3w"
      },
      "execution_count": null,
      "outputs": []
    },
    {
      "cell_type": "code",
      "source": [],
      "metadata": {
        "id": "pvVgtG7bGQ0T"
      },
      "execution_count": null,
      "outputs": []
    },
    {
      "cell_type": "markdown",
      "source": [
        "#### Vendas e ganhos por hora"
      ],
      "metadata": {
        "id": "7j2u-rxgIEkP"
      }
    },
    {
      "cell_type": "code",
      "source": [
        "num_transacoes_por_hora = df_clean_copy.groupby('hora')['InvoiceNo'].nunique()\n",
        "num_ganhos_por_hora = df_clean_copy.groupby('hora')['TotalPrice'].sum()"
      ],
      "metadata": {
        "id": "qNqksJAgIEbY"
      },
      "execution_count": null,
      "outputs": []
    },
    {
      "cell_type": "code",
      "source": [
        "fig, (ax1, ax2) = plt.subplots(1, 2)\n",
        "sns.barplot(x=num_transacoes_por_hora.index, y=num_transacoes_por_hora.values, ax=ax1)\n",
        "sns.lineplot(x=num_ganhos_por_hora.index, y=num_ganhos_por_hora.values, ax=ax2)\n",
        "ax2.set_title(\"Ganhos por hora\")\n",
        "ax1.set_title(\"Vendas por hora\")\n",
        "plt.show()"
      ],
      "metadata": {
        "id": "ubHdZHOvIEQL"
      },
      "execution_count": null,
      "outputs": []
    },
    {
      "cell_type": "markdown",
      "source": [
        "#### Vendas e ganhos por dia"
      ],
      "metadata": {
        "id": "ELoA845bGjSq"
      }
    },
    {
      "cell_type": "code",
      "source": [
        "num_transacoes_por_dia = df_clean_copy.groupby('dia')['InvoiceNo'].nunique()\n",
        "num_ganhos_por_dia = df_clean_copy.groupby('dia')['TotalPrice'].sum()"
      ],
      "metadata": {
        "id": "w3ZCiu8VGQw-"
      },
      "execution_count": null,
      "outputs": []
    },
    {
      "cell_type": "code",
      "source": [
        "fig, (ax1, ax2) = plt.subplots(1, 2)\n",
        "sns.barplot(x=num_transacoes_por_dia.index, y=num_transacoes_por_dia.values, ax=ax1)\n",
        "sns.lineplot(x=num_ganhos_por_dia.index, y=num_ganhos_por_dia.values, ax=ax2)\n",
        "ax2.set_title(\"Ganhos por dia\")\n",
        "ax1.set_title(\"Vendas por dia\")\n",
        "plt.show()"
      ],
      "metadata": {
        "id": "UMCihAWFHEu9"
      },
      "execution_count": null,
      "outputs": []
    },
    {
      "cell_type": "markdown",
      "source": [
        "#### Vendas e ganhos por mes"
      ],
      "metadata": {
        "id": "SZk4d7JJIciu"
      }
    },
    {
      "cell_type": "code",
      "source": [
        "num_transacoes_por_mes = df_clean_copy.groupby('mes')['InvoiceNo'].nunique()\n",
        "num_ganhos_por_mes = df_clean_copy.groupby('mes')['TotalPrice'].sum()"
      ],
      "metadata": {
        "id": "VPlM96VmG3hl"
      },
      "execution_count": null,
      "outputs": []
    },
    {
      "cell_type": "code",
      "source": [
        "fig, (ax1, ax2) = plt.subplots(1, 2)\n",
        "sns.barplot(x=num_transacoes_por_mes.index, y=num_transacoes_por_mes.values, ax=ax1)\n",
        "sns.lineplot(x=num_ganhos_por_mes.index, y=num_ganhos_por_mes.values, ax=ax2)\n",
        "ax2.set_title(\"Ganhos por mes\")\n",
        "ax1.set_title(\"Vendas por mes\")\n",
        "plt.show()"
      ],
      "metadata": {
        "id": "Q4u1LPiTGQtj"
      },
      "execution_count": null,
      "outputs": []
    },
    {
      "cell_type": "markdown",
      "source": [
        "#### Vendas e ganhos por ano"
      ],
      "metadata": {
        "id": "54SBeTTfJWZg"
      }
    },
    {
      "cell_type": "code",
      "source": [
        "num_transacoes_por_ano = df_clean_copy.groupby('ano')['InvoiceNo'].nunique()\n",
        "num_ganhos_por_ano = df_clean_copy.groupby('ano')['TotalPrice'].sum()"
      ],
      "metadata": {
        "id": "Dxl31mL4GJCR"
      },
      "execution_count": null,
      "outputs": []
    },
    {
      "cell_type": "code",
      "source": [
        "fig, (ax1, ax2) = plt.subplots(1, 2)\n",
        "sns.barplot(x=num_transacoes_por_ano.index, y=num_transacoes_por_ano.values, ax=ax1)\n",
        "sns.lineplot(x=num_ganhos_por_ano.index, y=num_ganhos_por_ano.values, ax=ax2)\n",
        "ax2.set_title(\"Ganhos por ano\")\n",
        "ax1.set_title(\"Vendas por ano\")\n",
        "plt.show()"
      ],
      "metadata": {
        "id": "h_CqKE78GI-R"
      },
      "execution_count": null,
      "outputs": []
    },
    {
      "cell_type": "code",
      "source": [],
      "metadata": {
        "id": "ZdFYA4olGI5y"
      },
      "execution_count": null,
      "outputs": []
    },
    {
      "cell_type": "code",
      "source": [],
      "metadata": {
        "id": "l_Pj1eO6GI04"
      },
      "execution_count": null,
      "outputs": []
    },
    {
      "cell_type": "markdown",
      "source": [
        "# Contexto de modelagem\n",
        "\n",
        "---\n",
        "\n",
        "\n",
        "\n",
        "---\n",
        "\n",
        "\n",
        "\n",
        "\n",
        "\n"
      ],
      "metadata": {
        "id": "JdMqhdmoepz9"
      }
    },
    {
      "cell_type": "markdown",
      "source": [
        "Após as análises podemos trabalhar com diversas problematicas sendo elas :\n",
        "\n",
        "\n",
        "*  Series Temporais \n",
        "*  Churn de compras (cancelamentos de compras)\n",
        "\n"
      ],
      "metadata": {
        "id": "E9kQhOhZKA9v"
      }
    },
    {
      "cell_type": "markdown",
      "source": [
        "## Series Temporais"
      ],
      "metadata": {
        "id": "eMgLbEyQKUnz"
      }
    },
    {
      "cell_type": "code",
      "source": [],
      "metadata": {
        "id": "AbJhJlvIes1K"
      },
      "execution_count": null,
      "outputs": []
    },
    {
      "cell_type": "code",
      "source": [],
      "metadata": {
        "id": "28ShQSDFo6v0"
      },
      "execution_count": null,
      "outputs": []
    },
    {
      "cell_type": "code",
      "source": [],
      "metadata": {
        "id": "Rt_B8yU4o6tJ"
      },
      "execution_count": null,
      "outputs": []
    },
    {
      "cell_type": "code",
      "source": [],
      "metadata": {
        "id": "lRZwu7mzo6pv"
      },
      "execution_count": null,
      "outputs": []
    },
    {
      "cell_type": "code",
      "source": [],
      "metadata": {
        "id": "srci_X3ro6md"
      },
      "execution_count": null,
      "outputs": []
    },
    {
      "cell_type": "code",
      "source": [],
      "metadata": {
        "id": "DogvTaMio6jI"
      },
      "execution_count": null,
      "outputs": []
    },
    {
      "cell_type": "markdown",
      "source": [
        "## Cancelamentos de vendas\n"
      ],
      "metadata": {
        "id": "f12fzVbYLJjZ"
      }
    },
    {
      "cell_type": "code",
      "source": [
        "from sklearn.model_selection import train_test_split\n",
        "from sklearn.preprocessing import MinMaxScaler, LabelEncoder\n",
        "from sklearn.metrics import confusion_matrix, ConfusionMatrixDisplay\n",
        "from imblearn.over_sampling import SMOTE\n",
        "from sklearn.model_selection import cross_val_score\n",
        "from collections import Counter"
      ],
      "metadata": {
        "id": "ZFG0d3w9joGU"
      },
      "execution_count": null,
      "outputs": []
    },
    {
      "cell_type": "code",
      "source": [
        "#modelos \n",
        "from sklearn.tree import DecisionTreeClassifier\n",
        "from sklearn.ensemble import RandomForestClassifier, GradientBoostingClassifier,AdaBoostClassifier,VotingClassifier\n",
        "from sklearn.naive_bayes import MultinomialNB,GaussianNB\n",
        "from sklearn.linear_model import LogisticRegression"
      ],
      "metadata": {
        "id": "W5PJCasByFl_"
      },
      "execution_count": null,
      "outputs": []
    },
    {
      "cell_type": "code",
      "source": [],
      "metadata": {
        "id": "0vzAjwaBjn6p"
      },
      "execution_count": null,
      "outputs": []
    },
    {
      "cell_type": "code",
      "source": [
        "df.cancelados.value_counts(normalize=True)"
      ],
      "metadata": {
        "id": "9ySJKkxALMRA"
      },
      "execution_count": null,
      "outputs": []
    },
    {
      "cell_type": "code",
      "source": [
        "sns.countplot(x=\"cancelados\", data=df)\n",
        "plt.show()"
      ],
      "metadata": {
        "id": "FDHlCHJGiDkF"
      },
      "execution_count": null,
      "outputs": []
    },
    {
      "cell_type": "markdown",
      "source": [
        "podemos ver que os dados estão bastantes desbalanceados"
      ],
      "metadata": {
        "id": "FRLvWmnAihVB"
      }
    },
    {
      "cell_type": "code",
      "source": [],
      "metadata": {
        "id": "4a6rBYe5q9y9"
      },
      "execution_count": null,
      "outputs": []
    },
    {
      "cell_type": "markdown",
      "source": [
        "Checando as colunas"
      ],
      "metadata": {
        "id": "q0X3qxq8q-Vk"
      }
    },
    {
      "cell_type": "code",
      "source": [
        "df.info()"
      ],
      "metadata": {
        "id": "FnGHsVXUq5-Q"
      },
      "execution_count": null,
      "outputs": []
    },
    {
      "cell_type": "code",
      "source": [
        "data_model_Clf = df[[\"Quantity\",\"UnitPrice\",\"TotalPrice\",\"cancelados\"]]\n"
      ],
      "metadata": {
        "id": "VQpaILzwrIv8"
      },
      "execution_count": null,
      "outputs": []
    },
    {
      "cell_type": "code",
      "source": [
        "data_model_Clf"
      ],
      "metadata": {
        "id": "aglHUVLMifW2"
      },
      "execution_count": null,
      "outputs": []
    },
    {
      "cell_type": "code",
      "source": [],
      "metadata": {
        "id": "SIe2RxD4sLq0"
      },
      "execution_count": null,
      "outputs": []
    },
    {
      "cell_type": "markdown",
      "source": [
        "Separando os dados em treino e teste"
      ],
      "metadata": {
        "id": "AmF2htqZsV54"
      }
    },
    {
      "cell_type": "code",
      "source": [
        "X = data_model_Clf.drop(columns=[\"cancelados\"])\n",
        "y = data_model_Clf.cancelados"
      ],
      "metadata": {
        "id": "VfXpPJn9s2rL"
      },
      "execution_count": null,
      "outputs": []
    },
    {
      "cell_type": "code",
      "source": [
        "X_train,X_test,y_train,y_test = train_test_split(X,y,test_size= 0.3, random_state=42)"
      ],
      "metadata": {
        "id": "lsy2uA8hsT3K"
      },
      "execution_count": null,
      "outputs": []
    },
    {
      "cell_type": "code",
      "source": [
        "print(f\"Shape X_train => {X_train.shape}\")\n",
        "print(f\"Shape X_test => {X_test.shape}\")\n",
        "print(f\"Shape y_train => {y_train.shape}\")\n",
        "print(f\"Shape y_test => {y_test.shape}\")"
      ],
      "metadata": {
        "id": "41cmwk95sTz2"
      },
      "execution_count": null,
      "outputs": []
    },
    {
      "cell_type": "code",
      "source": [
        "le= LabelEncoder()"
      ],
      "metadata": {
        "id": "amS_gikQuzlD"
      },
      "execution_count": null,
      "outputs": []
    },
    {
      "cell_type": "code",
      "source": [
        "y_train = le.fit_transform(y_train)"
      ],
      "metadata": {
        "id": "QO67_o9NsTwI"
      },
      "execution_count": null,
      "outputs": []
    },
    {
      "cell_type": "markdown",
      "source": [
        "Como baseline vamos usar o algoritmo DummyClassifier"
      ],
      "metadata": {
        "id": "aD2ikEIxtv4A"
      }
    },
    {
      "cell_type": "code",
      "source": [
        "from sklearn.dummy import DummyClassifier"
      ],
      "metadata": {
        "id": "n9_QOcNUsMOe"
      },
      "execution_count": null,
      "outputs": []
    },
    {
      "cell_type": "code",
      "source": [
        "from sklearn.metrics import classification_report"
      ],
      "metadata": {
        "id": "nInZ2pt5uQ1m"
      },
      "execution_count": null,
      "outputs": []
    },
    {
      "cell_type": "code",
      "source": [
        "dummy_clf = DummyClassifier()"
      ],
      "metadata": {
        "id": "S7kWCsdMsMJ4"
      },
      "execution_count": null,
      "outputs": []
    },
    {
      "cell_type": "code",
      "source": [
        "dummy_clf.fit(X_train,y_train)"
      ],
      "metadata": {
        "id": "Dtqu87kdsMFR"
      },
      "execution_count": null,
      "outputs": []
    },
    {
      "cell_type": "code",
      "source": [],
      "metadata": {
        "id": "Aa3iN1UCu_EL"
      },
      "execution_count": null,
      "outputs": []
    },
    {
      "cell_type": "code",
      "source": [
        "y_pred = dummy_clf.predict(X_test)"
      ],
      "metadata": {
        "id": "kbSu2AAKuUHu"
      },
      "execution_count": null,
      "outputs": []
    },
    {
      "cell_type": "code",
      "source": [],
      "metadata": {
        "id": "W8hUzLTLuw2S"
      },
      "execution_count": null,
      "outputs": []
    },
    {
      "cell_type": "code",
      "source": [
        "target_names = ['não cancelado', 'cancelado']\n",
        "print(classification_report(y_test, y_pred, target_names=target_names))"
      ],
      "metadata": {
        "id": "dDKWge85tsUc"
      },
      "execution_count": null,
      "outputs": []
    },
    {
      "cell_type": "code",
      "source": [
        "cm = confusion_matrix(y_test, y_pred, labels=dummy_clf.classes_)\n",
        "disp = ConfusionMatrixDisplay(confusion_matrix=cm,\n",
        "                              display_labels=dummy_clf.classes_)\n",
        "\n",
        "disp.plot()\n",
        "plt.show()"
      ],
      "metadata": {
        "id": "Aa71QYOmv9qP"
      },
      "execution_count": null,
      "outputs": []
    },
    {
      "cell_type": "code",
      "source": [],
      "metadata": {
        "id": "Lh1CgyTNv9g8"
      },
      "execution_count": null,
      "outputs": []
    },
    {
      "cell_type": "markdown",
      "source": [
        "Vemos que o nosso baseline apresenta um compartado muito tendencioso com uma acuracia de 98%, porem me nossa matriz de confusão vemos que teve um toal de 2828 erros ao prever o cancelamento, boa parte de error se devesse aos dados estarem desbalanceados."
      ],
      "metadata": {
        "id": "PExrg2XTvE6Q"
      }
    },
    {
      "cell_type": "code",
      "source": [],
      "metadata": {
        "id": "6jgG_dGatsRq"
      },
      "execution_count": null,
      "outputs": []
    },
    {
      "cell_type": "markdown",
      "source": [
        "Balanceando os dados"
      ],
      "metadata": {
        "id": "tTr3N-Boxepn"
      }
    },
    {
      "cell_type": "markdown",
      "source": [
        "Como estamos trabalhando com dados sinteticos, vamos usar uma biblioteca chamada ibmlearn nela vamos usar um metodo chamado SMOTE, ele consiste:  \n",
        "SMOTE (Synthetic Minority Over-sampling Technique) é um método de balanceamento de classes usado em problemas de classificação desbalanceados. O método cria novas amostras sintéticas para a classe minoritária, gerando exemplos artificiais que são combinações das instâncias existentes, usando técnicas de interpolação. Essas novas amostras ajudam a aumentar a representação da classe minoritária, melhorando o desempenho do modelo de classificação em relação à precisão e sensibilidade."
      ],
      "metadata": {
        "id": "INOxVxcPxjeR"
      }
    },
    {
      "cell_type": "code",
      "source": [
        "sm = SMOTE(random_state=42)"
      ],
      "metadata": {
        "id": "l9tILKrttsO4"
      },
      "execution_count": null,
      "outputs": []
    },
    {
      "cell_type": "code",
      "source": [
        "print(f\"Antes do balanceamento {Counter(y_train)}\")"
      ],
      "metadata": {
        "id": "52bM-JlWtsLc"
      },
      "execution_count": null,
      "outputs": []
    },
    {
      "cell_type": "code",
      "source": [
        "X_res_train, y_res_train = sm.fit_resample(X_train,y_train)"
      ],
      "metadata": {
        "id": "XYsqfTmQxeUD"
      },
      "execution_count": null,
      "outputs": []
    },
    {
      "cell_type": "code",
      "source": [
        "print(f\"Antes do balanceamento {Counter(y_res_train)}\")"
      ],
      "metadata": {
        "id": "cLUqR96axeQv"
      },
      "execution_count": null,
      "outputs": []
    },
    {
      "cell_type": "code",
      "source": [
        "X_res_train.Quantity = X_res_train.Quantity.apply(lambda x : x*-1 if x<0 else x)\n",
        "X_res_train.TotalPrice = X_res_train.TotalPrice.apply(lambda x : x*-1 if x<0 else x)"
      ],
      "metadata": {
        "id": "SQ5dZEPJ7b0j"
      },
      "execution_count": null,
      "outputs": []
    },
    {
      "cell_type": "code",
      "source": [
        "modelos = [LogisticRegression(),DecisionTreeClassifier(),AdaBoostClassifier(),GradientBoostingClassifier(),GaussianNB()]"
      ],
      "metadata": {
        "id": "3fIfkVQZ4sAq"
      },
      "execution_count": null,
      "outputs": []
    },
    {
      "cell_type": "code",
      "source": [
        "X_res_train"
      ],
      "metadata": {
        "id": "NkAN3nxS86eN"
      },
      "execution_count": null,
      "outputs": []
    },
    {
      "cell_type": "code",
      "source": [
        "acc=[]\n",
        "recall = []\n",
        "f1 = []\n",
        "nome_modelos=[]\n",
        "\n",
        "print(\"-\"*50)  \n",
        "for model in modelos:\n",
        "    print(model.__class__.__name__)\n",
        "    nome_modelos.append(model.__class__.__name__)\n",
        "    for score in [\"recall\",\"f1\",\"accuracy\"]:\n",
        "        cvs = cross_val_score(model, X_res_train,y_res_train, scoring=score, cv=3)\n",
        "        mean = cvs.mean()\n",
        "        std = cvs.std()\n",
        "        print(score + \" : \"+ str(round(mean,3)) + \" std : \"+ str(round(std,3)))\n",
        "        print(\"Intervalo :  [{:.2f}% ~ {:.2f}%]\".format((mean - 2*std)*100, (mean + 2*std)*100))\n",
        "        print()\n",
        "        if score == \"recall\":\n",
        "            recall.append(round(mean,3))\n",
        "        elif score == \"f1\":\n",
        "            f1.append(round(mean,3))\n",
        "        else:\n",
        "            acc.append(round(mean,3))\n",
        "    print()"
      ],
      "metadata": {
        "id": "iCqwkBr-zfbS"
      },
      "execution_count": null,
      "outputs": []
    },
    {
      "cell_type": "code",
      "source": [
        "df_models_train = pd.DataFrame(data=zip(recall,f1,acc), index=nome_modelos, columns=['recall','f1','acc'])\n",
        "df_models_train"
      ],
      "metadata": {
        "id": "lFpso3ca7bxj"
      },
      "execution_count": null,
      "outputs": []
    },
    {
      "cell_type": "code",
      "source": [],
      "metadata": {
        "id": "tgpGekY0zfUY"
      },
      "execution_count": null,
      "outputs": []
    },
    {
      "cell_type": "code",
      "source": [],
      "metadata": {
        "id": "eydPp3YSzfQB"
      },
      "execution_count": null,
      "outputs": []
    },
    {
      "cell_type": "code",
      "source": [],
      "metadata": {
        "id": "fK8sCGb1zfIS"
      },
      "execution_count": null,
      "outputs": []
    },
    {
      "cell_type": "code",
      "source": [],
      "metadata": {
        "id": "hXdjKdSXxeNa"
      },
      "execution_count": null,
      "outputs": []
    }
  ]
}